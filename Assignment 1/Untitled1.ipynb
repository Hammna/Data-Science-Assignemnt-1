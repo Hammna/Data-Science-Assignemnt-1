{
  "nbformat": 4,
  "nbformat_minor": 0,
  "metadata": {
    "colab": {
      "name": "Untitled1.ipynb",
      "provenance": [],
      "collapsed_sections": []
    },
    "kernelspec": {
      "name": "python3",
      "display_name": "Python 3"
    },
    "language_info": {
      "name": "python"
    }
  },
  "cells": [
    {
      "cell_type": "code",
      "execution_count": null,
      "metadata": {
        "colab": {
          "base_uri": "https://localhost:8080/"
        },
        "id": "LukDHYBRpLbK",
        "outputId": "0081e7e2-ce5a-4661-a39d-dbf8609ecdb4"
      },
      "outputs": [
        {
          "output_type": "stream",
          "name": "stdout",
          "text": [
            "hello\n"
          ]
        }
      ],
      "source": [
        "print ('hello');"
      ]
    },
    {
      "cell_type": "code",
      "source": [
        "fname = \"hammna\" ;\n",
        "print (fname);"
      ],
      "metadata": {
        "colab": {
          "base_uri": "https://localhost:8080/"
        },
        "id": "ioQk5EafpRVQ",
        "outputId": "75d0de01-c788-484b-c603-7e99e0d8bc12"
      },
      "execution_count": null,
      "outputs": [
        {
          "output_type": "stream",
          "name": "stdout",
          "text": [
            "hammna\n"
          ]
        }
      ]
    },
    {
      "cell_type": "code",
      "source": [
        "fname = input(\"Enter First Name\")\n",
        "print(fname);"
      ],
      "metadata": {
        "colab": {
          "base_uri": "https://localhost:8080/"
        },
        "id": "qC8cRwu6pZYg",
        "outputId": "e526cdda-ad90-46b1-c25b-3e4795ebfd8e"
      },
      "execution_count": null,
      "outputs": [
        {
          "output_type": "stream",
          "name": "stdout",
          "text": [
            "Enter First Namehammna\n",
            "hammna\n"
          ]
        }
      ]
    },
    {
      "cell_type": "code",
      "source": [
        "fname = input(\"Enter First Name\")\n",
        "print(fname);\n",
        "lname = input(\"Enter Last Name\")\n",
        "print(lname);"
      ],
      "metadata": {
        "colab": {
          "base_uri": "https://localhost:8080/"
        },
        "id": "XGHmKliQpj6b",
        "outputId": "25bbdcde-32b5-4cf1-a381-474470646473"
      },
      "execution_count": null,
      "outputs": [
        {
          "output_type": "stream",
          "name": "stdout",
          "text": [
            "Enter First Namehammna\n",
            "hammna\n",
            "Enter Last Nameashraf\n",
            "ashraf\n"
          ]
        }
      ]
    },
    {
      "cell_type": "code",
      "source": [
        "fname = input(\"Enter First Name\")\n",
        "\n",
        "lname = input(\"Enter Last Name\")\n",
        "print(lname , \" \" ,fname);"
      ],
      "metadata": {
        "colab": {
          "base_uri": "https://localhost:8080/"
        },
        "id": "bPDzfOibpphe",
        "outputId": "318d785a-89ab-41ad-b9c1-8c435fc75990"
      },
      "execution_count": null,
      "outputs": [
        {
          "output_type": "stream",
          "name": "stdout",
          "text": [
            "Enter First Namehammna\n",
            "Enter Last Nameashraf\n",
            "ashraf   hammna\n"
          ]
        }
      ]
    },
    {
      "cell_type": "code",
      "source": [
        "a = int(input(\"enter any first number: \"));\n",
        "b = int(input(\"enter second number: \"));\n",
        "c= (a + b);\n",
        "print(\"sum of a and b: \" , c);"
      ],
      "metadata": {
        "colab": {
          "base_uri": "https://localhost:8080/"
        },
        "id": "paiGffZpqoz6",
        "outputId": "b1d5b6eb-8aed-454c-81ec-284ffd2841d5"
      },
      "execution_count": null,
      "outputs": [
        {
          "output_type": "stream",
          "name": "stdout",
          "text": [
            "enter any first number: 6\n",
            "enter second number: 5\n",
            "sum of a and b:  11\n"
          ]
        }
      ]
    },
    {
      "cell_type": "code",
      "source": [
        "r = float(input(\"Enter the Radius of Circel: \"));\n",
        "a = 3.14*r*r\n",
        "print(\"Area of circle: \" , a);"
      ],
      "metadata": {
        "colab": {
          "base_uri": "https://localhost:8080/"
        },
        "id": "hlpvHc0lqvR-",
        "outputId": "a5eaed54-192c-4dec-b023-3970b94662c8"
      },
      "execution_count": null,
      "outputs": [
        {
          "output_type": "stream",
          "name": "stdout",
          "text": [
            "Enter the Radius of Circel: 6\n",
            "Area of circle:  113.03999999999999\n"
          ]
        }
      ]
    },
    {
      "cell_type": "code",
      "source": [
        "!python --version"
      ],
      "metadata": {
        "colab": {
          "base_uri": "https://localhost:8080/"
        },
        "id": "2fGWxOgZqwQ1",
        "outputId": "b18fc3b7-fe6e-45f5-d8fe-965a2cb3feed"
      },
      "execution_count": null,
      "outputs": [
        {
          "output_type": "stream",
          "name": "stdout",
          "text": [
            "Python 3.7.12\n"
          ]
        }
      ]
    },
    {
      "cell_type": "code",
      "source": [
        "print (\"Twinkle, twinkle, little star,\");\n",
        "print('\\t How I wonder what you are!');\n",
        "print ('\\t\\t Up above the world so high,');\n",
        "print ('\\t\\t Like a diamond in the sky.');\n",
        "print (\"Twinkle, twinkle, little star,\");\n",
        "print('\\t How I wonder what you are!');"
      ],
      "metadata": {
        "colab": {
          "base_uri": "https://localhost:8080/"
        },
        "id": "64I-J-JjrBjV",
        "outputId": "68986eaa-30a5-48da-b2fd-3c64aa7655e2"
      },
      "execution_count": null,
      "outputs": [
        {
          "output_type": "stream",
          "name": "stdout",
          "text": [
            "Twinkle, twinkle, little star,\n",
            "\t How I wonder what you are!\n",
            "\t\t Up above the world so high,\n",
            "\t\t Like a diamond in the sky.\n",
            "Twinkle, twinkle, little star,\n",
            "\t How I wonder what you are!\n"
          ]
        }
      ]
    },
    {
      "cell_type": "code",
      "source": [
        ""
      ],
      "metadata": {
        "id": "vspvNGmh3ekw"
      },
      "execution_count": null,
      "outputs": []
    }
  ]
}